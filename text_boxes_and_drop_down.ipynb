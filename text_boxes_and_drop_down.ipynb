{
 "cells": [
  {
   "cell_type": "code",
   "execution_count": 13,
   "metadata": {},
   "outputs": [],
   "source": [
    "import cv2\n",
    "import numpy as np"
   ]
  },
  {
   "cell_type": "code",
   "execution_count": 27,
   "metadata": {},
   "outputs": [
    {
     "data": {
      "text/plain": [
       "True"
      ]
     },
     "execution_count": 27,
     "metadata": {},
     "output_type": "execute_result"
    }
   ],
   "source": [
    "img = cv2.imread(\"mod_img3.jpg\")\n",
    "img3 = np.copy(img)\n",
    "img2 = img\n",
    "grey = cv2.cvtColor(img, cv2.COLOR_BGR2GRAY)\n",
    "_,th = cv2.threshold(grey, 150, 255, cv2.THRESH_BINARY)\n",
    "kernel = np.ones((1,5),np.uint8)\n",
    "th = cv2.erode(th, kernel, iterations = 2)\n",
    "th = cv2.dilate(th, kernel, iterations = 2)\n",
    "th = 255 - th\n",
    "\n",
    "nlabels, labels, stats, centroids = cv2.connectedComponentsWithStats(th, None, None, None, 4, cv2.CV_32S)\n",
    "areas = stats[1:,cv2.CC_STAT_AREA]\n",
    "result = np.zeros((labels.shape), np.uint8)\n",
    "for i in range(0, nlabels - 1):\n",
    "    if areas[i] >= 210:   #keep\n",
    "        result[labels == i + 1] = 255\n",
    "\n",
    "#cv2.imshow(\"Binary\", binary_map)\n",
    "result = 255-result\n",
    "\n",
    "kernel = np.ones((3, 3), np.uint8)   \n",
    "result = cv2.erode(result, kernel, iterations = 1)\n",
    "result = cv2.dilate(result, kernel, iterations = 1)\n",
    "\n",
    "cv2.imwrite(\"inter1.jpg\", result)"
   ]
  },
  {
   "cell_type": "code",
   "execution_count": 28,
   "metadata": {},
   "outputs": [
    {
     "name": "stdout",
     "output_type": "stream",
     "text": [
      "[(0, 3687, 191, 473), (0, 3590, 35, 73), (33, 3660, 38, 49), (82, 3799, 42, 49), (361, 1184, 534, 462), (423, 1236, 446, 382), (485, 1236, 44, 25), (566, 1382, 146, 119), (574, 2251, 352, 363), (606, 2281, 299, 306), (691, 2389, 108, 127), (896, 3087, 751, 1073), (977, 4056, 27, 64), (1167, 3636, 44, 31), (1186, 3495, 23, 38), (1279, 3238, 34, 42), (1312, 3054, 21, 31), (1343, 3015, 42, 97), (1352, 3110, 45, 26), (1352, 2216, 460, 279), (1353, 1247, 443, 253), (1362, 3380, 26, 28), (1380, 3226, 24, 42), (1380, 3202, 76, 36), (1396, 3016, 30, 26), (1409, 3148, 48, 32), (1434, 3520, 26, 44), (1440, 3275, 38, 22), (1468, 2961, 35, 31), (1470, 3983, 51, 44), (1471, 2997, 33, 32), (1482, 4018, 24, 31), (1488, 3388, 38, 143), (1496, 3330, 47, 28), (1508, 3934, 21, 34), (1520, 3660, 39, 39), (1525, 3592, 33, 24), (1526, 3827, 24, 26), (1531, 3786, 25, 35), (1535, 3704, 24, 22), (1538, 3213, 35, 52), (1542, 3855, 29, 30), (1598, 3421, 27, 28), (1618, 3632, 32, 60), (1635, 3551, 23, 39), (1638, 3493, 26, 34), (1743, 1354, 36, 41), (1800, 2188, 128, 201), (1828, 1207, 132, 195), (1923, 1175, 137, 274), (1926, 2155, 245, 197), (1964, 2281, 61, 41)]\n"
     ]
    }
   ],
   "source": [
    "contours, hierarchy = cv2.findContours(th, cv2.RETR_TREE, cv2.CHAIN_APPROX_SIMPLE)\n",
    "contours_poly = [None]*len(contours)\n",
    "boundRect = [None]*len(contours)\n",
    "centroid = set()\n",
    "\n",
    "#finding radio buttons \n",
    "\n",
    "for cnt in contours:\n",
    "    approx1 = cv2.approxPolyDP(cnt,0.01*cv2.arcLength(cnt,True),True)\n",
    "    if len(approx1) > 10:\n",
    "        cv2.drawContours(img2,[cnt],0,(0,255,255),-1)\n",
    "\n",
    "#end\n",
    "\n",
    "for i, c in enumerate(contours):\n",
    "        contours_poly[i] = cv2.approxPolyDP(c, 3, True)\n",
    "        boundRect[i] = cv2.boundingRect(contours_poly[i])\n",
    "\n",
    "\n",
    "i = 0\n",
    "others = list()\n",
    "while i<len(boundRect):\n",
    "    if boundRect[i][2] > 20 and boundRect[i][3] > 20:\n",
    "        i += 1\n",
    "    else:\n",
    "        temp = boundRect[i]\n",
    "        boundRect.remove(boundRect[i])\n",
    "        if temp[2] >10 and temp[3] >5 and abs(temp[2] -temp[3])<8:\n",
    "            others.append(temp)\n",
    "        \n",
    "boundRect.sort(key = lambda x:x[0])\n",
    "\n",
    "\n",
    "i = 0\n",
    "\n",
    "while i < len(boundRect):\n",
    "    centroid = (boundRect[i][0] + boundRect[i][2]/2, boundRect[i][1] + boundRect[i][3]/2)\n",
    "    j = i+1 \n",
    "    while j < len(boundRect):\n",
    "        if abs(boundRect[j][0]+boundRect[j][2]/2 -centroid[0])<5 and abs(boundRect[j][1]+boundRect[j][3]/2 -centroid[1])<5: \n",
    "            boundRect.remove(boundRect[j])\n",
    "            break\n",
    "        else:\n",
    "                j+=1\n",
    "    i += 1\n",
    "print(boundRect)"
   ]
  },
  {
   "cell_type": "code",
   "execution_count": 29,
   "metadata": {},
   "outputs": [
    {
     "name": "stdout",
     "output_type": "stream",
     "text": [
      "{(361, 1184, 534, 462): [(423, 1236, 446, 382), (566, 1382, 146, 119), (485, 1236, 44, 25)], (574, 2251, 352, 363): [(606, 2281, 299, 306), (691, 2389, 108, 127)], (1923, 1175, 137, 274): [], (1353, 1247, 443, 253): [(1743, 1354, 36, 41)], (1800, 2188, 128, 201): [], (1926, 2155, 245, 197): [(1964, 2281, 61, 41)], (1828, 1207, 132, 195): [], (1488, 3388, 38, 143): [], (1343, 3015, 42, 97): [], (0, 3590, 35, 73): [], (977, 4056, 27, 64): [], (1618, 3632, 32, 60): [], (1538, 3213, 35, 52): [], (33, 3660, 38, 49): [], (82, 3799, 42, 49): [], (1434, 3520, 26, 44): [], (1470, 3983, 51, 44): [], (1279, 3238, 34, 42): [], (1380, 3226, 24, 42): [], (1520, 3660, 39, 39): [], (1635, 3551, 23, 39): [], (1186, 3495, 23, 38): [], (1380, 3202, 76, 36): [], (1531, 3786, 25, 35): [], (1508, 3934, 21, 34): [], (1638, 3493, 26, 34): [], (1409, 3148, 48, 32): [], (1471, 2997, 33, 32): [], (1167, 3636, 44, 31): [], (1312, 3054, 21, 31): [], (1468, 2961, 35, 31): [], (1482, 4018, 24, 31): [], (1542, 3855, 29, 30): [], (1362, 3380, 26, 28): [], (1496, 3330, 47, 28): [], (1598, 3421, 27, 28): [], (1352, 3110, 45, 26): [], (1396, 3016, 30, 26): [], (1526, 3827, 24, 26): [], (1525, 3592, 33, 24): [], (1440, 3275, 38, 22): [], (1535, 3704, 24, 22): []}\n"
     ]
    },
    {
     "data": {
      "text/plain": [
       "True"
      ]
     },
     "execution_count": 29,
     "metadata": {},
     "output_type": "execute_result"
    }
   ],
   "source": [
    "s = set()\n",
    "for small in others:\n",
    "    x, y, w, h = small[0:]\n",
    "    for i in range(len(boundRect)):\n",
    "        x1, y1, w1, h1 = boundRect[i][0:]\n",
    "        if x >= x1+w1-h1 and x+w <= x1+w1 and y >= y1 and y+h <= y1+h1:\n",
    "            cv2.rectangle(img2, (x1,y1), (x1+w1, y1+h1), (255,0,0), 2)\n",
    "            cv2.rectangle(img2, (x,y), (x+w, y+h), (0,205,0), 2)\n",
    "            s.add((x1,y1,w1,h1))\n",
    "            break\n",
    "      \n",
    "#sorting the rectangle as per their height and width\n",
    "\n",
    "def Sort_Tuple(tup):  \n",
    "      \n",
    "    lst = len(tup)  \n",
    "    for i in range(0, lst):    \n",
    "        for j in range(0, lst-i-1):  \n",
    "            if (tup[j][3] < tup[j + 1][3]):  \n",
    "                temp = tup[j]  \n",
    "                tup[j]= tup[j + 1]  \n",
    "                tup[j + 1]= temp  \n",
    "    return tup \n",
    "\n",
    "\n",
    "for j in boundRect:\n",
    "    if j in s:\n",
    "        boundRect.remove(j)\n",
    "\n",
    "boundRect=Sort_Tuple(boundRect)\n",
    "\n",
    "#identifying date fields that are indented six boxes with a bigger box\n",
    "  \n",
    "\n",
    "date_fields={}\n",
    "for i in range(len(boundRect)):\n",
    "    x1,y1,w1,h1=boundRect[i][0:]\n",
    "    if(len(date_fields)==0):\n",
    "        date_fields[(x1,y1,w1,h1)]=[]\n",
    "    else:\n",
    "        flag=False\n",
    "        for big_box in date_fields:\n",
    "            x2,y2,w2,h2=big_box[0:]\n",
    "            if y1>y2 and x1>x2 and y1+h1 < y2+h2 and x1+w1 < x2+w2:\n",
    "                date_fields[big_box].append((x1,y1,w1,h1))\n",
    "                flag=True\n",
    "                break\n",
    "        if flag==False:\n",
    "            date_fields[(x1,y1,w1,h1)]=[]\n",
    "        \n",
    "print(date_fields)\n",
    "\n",
    "inner_fields=set()\n",
    "\n",
    "#marking date_fields and the individual boxes\n",
    "\n",
    "for c in date_fields:\n",
    "    if(len(date_fields[c])==3):\n",
    "        boundRect.remove(c)\n",
    "        boundRect.remove(date_fields[c][0])\n",
    "        boundRect.remove(date_fields[c][1])\n",
    "        boundRect.remove(date_fields[c][2])\n",
    "        inner_fields.add(date_fields[c][0])\n",
    "        inner_fields.add(date_fields[c][1])\n",
    "        inner_fields.add(date_fields[c][2])\n",
    "        cv2.rectangle(img2, (int(c[0]), int(c[1])), \\\n",
    "              (int(c[0]+c[2]), int(c[1]+c[3])), (247, 145, 72), 2)\n",
    "    \n",
    "for c in inner_fields:\n",
    "    cv2.rectangle(img2, (int(c[0]), int(c[1])), \\\n",
    "          (int(c[0]+c[2]), int(c[1]+c[3])), (255,65,245), 2)\n",
    "                \n",
    "     \n",
    "for c in boundRect:\n",
    "    cv2.rectangle(img2, (int(c[0]), int(c[1])), \\\n",
    "          (int(c[0]+c[2]), int(c[1]+c[3])), (0,0,255), 2)\n",
    "        \n",
    "cv2.imwrite(\"inter6.jpg\", img2)  "
   ]
  },
  {
   "cell_type": "code",
   "execution_count": null,
   "metadata": {},
   "outputs": [],
   "source": []
  }
 ],
 "metadata": {
  "kernelspec": {
   "display_name": "Python 3",
   "language": "python",
   "name": "python3"
  },
  "language_info": {
   "codemirror_mode": {
    "name": "ipython",
    "version": 3
   },
   "file_extension": ".py",
   "mimetype": "text/x-python",
   "name": "python",
   "nbconvert_exporter": "python",
   "pygments_lexer": "ipython3",
   "version": "3.7.3"
  }
 },
 "nbformat": 4,
 "nbformat_minor": 4
}
