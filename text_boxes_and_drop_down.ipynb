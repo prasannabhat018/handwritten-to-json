{
 "cells": [
  {
   "cell_type": "code",
   "execution_count": 48,
   "metadata": {},
   "outputs": [],
   "source": [
    "import cv2\n",
    "import numpy as np"
   ]
  },
  {
   "cell_type": "code",
   "execution_count": 49,
   "metadata": {},
   "outputs": [
    {
     "data": {
      "text/plain": [
       "True"
      ]
     },
     "execution_count": 49,
     "metadata": {},
     "output_type": "execute_result"
    }
   ],
   "source": [
    "img = cv2.imread(\"mod_img.jpg\")\n",
    "img3 = np.copy(img)\n",
    "img2 = img\n",
    "grey = cv2.cvtColor(img, cv2.COLOR_BGR2GRAY)\n",
    "_,th = cv2.threshold(grey, 150, 255, cv2.THRESH_BINARY)\n",
    "kernel = np.ones((1,5),np.uint8)\n",
    "th = cv2.erode(th, kernel, iterations = 2)\n",
    "th = cv2.dilate(th, kernel, iterations = 2)\n",
    "th = 255 - th\n",
    "\n",
    "nlabels, labels, stats, centroids = cv2.connectedComponentsWithStats(th, None, None, None, 4, cv2.CV_32S)\n",
    "areas = stats[1:,cv2.CC_STAT_AREA]\n",
    "result = np.zeros((labels.shape), np.uint8)\n",
    "for i in range(0, nlabels - 1):\n",
    "    if areas[i] >= 210:   #keep\n",
    "        result[labels == i + 1] = 255\n",
    "\n",
    "#cv2.imshow(\"Binary\", binary_map)\n",
    "result = 255-result\n",
    "\n",
    "kernel = np.ones((3, 3), np.uint8)   \n",
    "result = cv2.erode(result, kernel, iterations = 1)\n",
    "result = cv2.dilate(result, kernel, iterations = 1)\n",
    "\n",
    "cv2.imwrite(\"inter1.jpg\", result)"
   ]
  },
  {
   "cell_type": "code",
   "execution_count": 50,
   "metadata": {},
   "outputs": [
    {
     "name": "stdout",
     "output_type": "stream",
     "text": [
      "[(38, 356, 252, 54), (41, 231, 231, 51), (56, 492, 250, 64), (360, 641, 101, 60), (365, 483, 66, 50), (376, 224, 211, 45), (384, 346, 218, 52), (490, 481, 100, 51)]\n"
     ]
    }
   ],
   "source": [
    "contours, hierarchy = cv2.findContours(th, cv2.RETR_TREE, cv2.CHAIN_APPROX_SIMPLE)\n",
    "contours_poly = [None]*len(contours)\n",
    "boundRect = [None]*len(contours)\n",
    "centroid = set()\n",
    "for i, c in enumerate(contours):\n",
    "        contours_poly[i] = cv2.approxPolyDP(c, 3, True)\n",
    "        boundRect[i] = cv2.boundingRect(contours_poly[i])\n",
    "\n",
    "\n",
    "i = 0\n",
    "others = list()\n",
    "while i<len(boundRect):\n",
    "    if boundRect[i][2] > 20 and boundRect[i][3] > 20:\n",
    "        i += 1\n",
    "    else:\n",
    "        temp = boundRect[i]\n",
    "        boundRect.remove(boundRect[i])\n",
    "        if temp[2] >10 and temp[3] >5 and abs(temp[2] -temp[3])<8:\n",
    "            others.append(temp)\n",
    "        \n",
    "boundRect.sort(key = lambda x:x[0])\n",
    "\n",
    "\n",
    "i = 0\n",
    "\n",
    "while i < len(boundRect):\n",
    "    centroid = (boundRect[i][0] + boundRect[i][2]/2, boundRect[i][1] + boundRect[i][3]/2)\n",
    "    j = i+1 \n",
    "    while j < len(boundRect):\n",
    "        if abs(boundRect[j][0]+boundRect[j][2]/2 -centroid[0])<5 and abs(boundRect[j][1]+boundRect[j][3]/2 -centroid[1])<5: \n",
    "            boundRect.remove(boundRect[j])\n",
    "            break\n",
    "        else:\n",
    "                j+=1\n",
    "    i += 1\n",
    "print(boundRect)\n"
   ]
  },
  {
   "cell_type": "code",
   "execution_count": 53,
   "metadata": {},
   "outputs": [
    {
     "data": {
      "text/plain": [
       "True"
      ]
     },
     "execution_count": 53,
     "metadata": {},
     "output_type": "execute_result"
    }
   ],
   "source": [
    "s = set()\n",
    "for small in others:\n",
    "    x, y, w, h = small[0:]\n",
    "    for i in range(len(boundRect)):\n",
    "        x1, y1, w1, h1 = boundRect[i][0:]\n",
    "        if x >= x1+w1-h1 and x+w <= x1+w1 and y >= y1 and y+h <= y1+h1:\n",
    "            cv2.rectangle(img2, (x1,y1), (x1+w1, y1+h1), (255,0,0), 2)\n",
    "            cv2.rectangle(img2, (x,y), (x+w, y+h), (70,205,0), 2)\n",
    "            s.add((x1,y1,w1,h1))\n",
    "            break\n",
    "            \n",
    "for j in boundRect:\n",
    "    if j in s:\n",
    "        boundRect.remove(j)\n",
    "\n",
    "for c in boundRect:\n",
    "    cv2.rectangle(img2, (int(c[0]), int(c[1])), \\\n",
    "          (int(c[0]+c[2]), int(c[1]+c[3])), (0,0,255), 2)\n",
    "        \n",
    "cv2.imwrite(\"inter2.jpg\", img2)     "
   ]
  },
  {
   "cell_type": "code",
   "execution_count": null,
   "metadata": {},
   "outputs": [],
   "source": []
  }
 ],
 "metadata": {
  "kernelspec": {
   "display_name": "Python 3",
   "language": "python",
   "name": "python3"
  },
  "language_info": {
   "codemirror_mode": {
    "name": "ipython",
    "version": 3
   },
   "file_extension": ".py",
   "mimetype": "text/x-python",
   "name": "python",
   "nbconvert_exporter": "python",
   "pygments_lexer": "ipython3",
   "version": "3.7.3"
  }
 },
 "nbformat": 4,
 "nbformat_minor": 2
}
