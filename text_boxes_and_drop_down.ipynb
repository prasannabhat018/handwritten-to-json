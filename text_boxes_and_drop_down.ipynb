{
 "cells": [
  {
   "cell_type": "code",
   "execution_count": 1,
   "metadata": {},
   "outputs": [],
   "source": [
    "import cv2 \n",
    "import numpy as np"
   ]
  },
  {
   "cell_type": "code",
   "execution_count": 2,
   "metadata": {},
   "outputs": [
    {
     "data": {
      "text/plain": [
       "True"
      ]
     },
     "execution_count": 2,
     "metadata": {},
     "output_type": "execute_result"
    }
   ],
   "source": [
    "img = cv2.imread(\"mod_img6.jpg\")\n",
    "img3 = np.copy(img)\n",
    "img2 = img\n",
    "grey = cv2.cvtColor(img, cv2.COLOR_BGR2GRAY)\n",
    "_,th = cv2.threshold(grey, 150, 255, cv2.THRESH_BINARY)\n",
    "kernel = np.ones((1,5),np.uint8)\n",
    "th = cv2.erode(th, kernel, iterations = 2)\n",
    "th = cv2.dilate(th, kernel, iterations = 2)\n",
    "th = 255 - th\n",
    "\n",
    "nlabels, labels, stats, centroids = cv2.connectedComponentsWithStats(th, None, None, None, 4, cv2.CV_32S)\n",
    "areas = stats[1:,cv2.CC_STAT_AREA]\n",
    "result = np.zeros((labels.shape), np.uint8)\n",
    "for i in range(0, nlabels - 1):\n",
    "    if areas[i] >= 210:   #keep\n",
    "        result[labels == i + 1] = 255\n",
    "\n",
    "#cv2.imshow(\"Binary\", binary_map)\n",
    "result = 255-result\n",
    "\n",
    "kernel = np.ones((3, 3), np.uint8)   \n",
    "result = cv2.erode(result, kernel, iterations = 1)\n",
    "result = cv2.dilate(result, kernel, iterations = 1)\n",
    "\n",
    "cv2.imwrite(\"inter1.jpg\", result)"
   ]
  },
  {
   "cell_type": "code",
   "execution_count": 3,
   "metadata": {},
   "outputs": [
    {
     "name": "stdout",
     "output_type": "stream",
     "text": [
      "[(0, 1868, 2100, 453), (66, 1904, 51, 23), (304, 2118, 75, 28), (376, 2093, 35, 28), (379, 1441, 1683, 364), (418, 1492, 448, 270), (437, 509, 111, 117), (450, 755, 116, 128), (869, 1479, 441, 290), (1308, 1458, 732, 311)]\n"
     ]
    }
   ],
   "source": [
    "contours, hierarchy = cv2.findContours(th, cv2.RETR_TREE, cv2.CHAIN_APPROX_SIMPLE)\n",
    "contours_poly = [None]*len(contours)\n",
    "boundRect = [None]*len(contours)\n",
    "centroid = set()\n",
    "\n",
    "#finding radio buttons \n",
    "\n",
    "for cnt in contours:\n",
    "    approx1 = cv2.approxPolyDP(cnt,0.01*cv2.arcLength(cnt,True),True)\n",
    "    if len(approx1) > 10:\n",
    "        cv2.drawContours(img2,[cnt],0,(255,255,255),-1)\n",
    "\n",
    "#end\n",
    "\n",
    "#test\n",
    "grey = cv2.cvtColor(img2, cv2.COLOR_BGR2GRAY)\n",
    "_,th = cv2.threshold(grey, 150, 255, cv2.THRESH_BINARY)\n",
    "kernel = np.ones((1,5),np.uint8)\n",
    "th = cv2.erode(th, kernel, iterations = 2)\n",
    "th = cv2.dilate(th, kernel, iterations = 2)\n",
    "th = 255 - th\n",
    "\n",
    "nlabels, labels, stats, centroids = cv2.connectedComponentsWithStats(th, None, None, None, 4, cv2.CV_32S)\n",
    "areas = stats[1:,cv2.CC_STAT_AREA]\n",
    "result = np.zeros((labels.shape), np.uint8)\n",
    "for i in range(0, nlabels - 1):\n",
    "    if areas[i] >= 210:   #keep\n",
    "        result[labels == i + 1] = 255\n",
    "\n",
    "#cv2.imshow(\"Binary\", binary_map)\n",
    "result = 255-result\n",
    "\n",
    "kernel = np.ones((3, 3), np.uint8)   \n",
    "result = cv2.erode(result, kernel, iterations = 1)\n",
    "result = cv2.dilate(result, kernel, iterations = 1)\n",
    "\n",
    "cv2.imwrite(\"inter1.jpg\", result)\n",
    "\n",
    "contours, hierarchy = cv2.findContours(th, cv2.RETR_TREE, cv2.CHAIN_APPROX_SIMPLE)\n",
    "contours_poly = [None]*len(contours)\n",
    "boundRect = [None]*len(contours)\n",
    "centroid = set()\n",
    "\n",
    "#test end\n",
    "\n",
    "for i, c in enumerate(contours):\n",
    "        contours_poly[i] = cv2.approxPolyDP(c, 3, True)\n",
    "        boundRect[i] = cv2.boundingRect(contours_poly[i])\n",
    "\n",
    "i = 0\n",
    "others = list()\n",
    "while i<len(boundRect):\n",
    "    if boundRect[i][2] > 20 and boundRect[i][3] > 20:\n",
    "        i += 1\n",
    "    else:\n",
    "        temp = boundRect[i]\n",
    "        boundRect.remove(boundRect[i])\n",
    "        if temp[2] >10 and temp[3] >5 and abs(temp[2] -temp[3])<8:\n",
    "            others.append(temp)\n",
    "        \n",
    "boundRect.sort(key = lambda x:x[0])\n",
    "\n",
    "\n",
    "i = 0\n",
    "\n",
    "while i < len(boundRect):\n",
    "    centroid = (boundRect[i][0] + boundRect[i][2]/2, boundRect[i][1] + boundRect[i][3]/2)\n",
    "    j = i+1 \n",
    "    while j < len(boundRect):\n",
    "        if abs(boundRect[j][0]+boundRect[j][2]/2 -centroid[0])<5 and abs(boundRect[j][1]+boundRect[j][3]/2 -centroid[1])<5: \n",
    "            boundRect.remove(boundRect[j])\n",
    "            break\n",
    "        else:\n",
    "                j+=1\n",
    "    i += 1\n",
    "print(boundRect)"
   ]
  },
  {
   "cell_type": "code",
   "execution_count": 4,
   "metadata": {},
   "outputs": [
    {
     "name": "stdout",
     "output_type": "stream",
     "text": [
      "{(376, 2093, 35, 28), (1308, 1458, 732, 311), (304, 2118, 75, 28), (869, 1479, 441, 290), (66, 1904, 51, 23), (418, 1492, 448, 270)}\n"
     ]
    },
    {
     "data": {
      "text/plain": [
       "True"
      ]
     },
     "execution_count": 4,
     "metadata": {},
     "output_type": "execute_result"
    }
   ],
   "source": [
    "s = set()\n",
    "for small in others:\n",
    "    x, y, w, h = small[0:]\n",
    "    for i in range(len(boundRect)):\n",
    "        x1, y1, w1, h1 = boundRect[i][0:]\n",
    "        if x >= x1+w1-h1 and x+w <= x1+w1 and y >= y1 and y+h <= y1+h1:\n",
    "            cv2.rectangle(img2, (x1,y1), (x1+w1, y1+h1), (255,0,0), 2)\n",
    "            cv2.rectangle(img2, (x,y), (x+w, y+h), (0,205,0), 2)\n",
    "            s.add((x1,y1,w1,h1))\n",
    "            break\n",
    "      \n",
    "#sorting the rectangle as per their height and width\n",
    "\n",
    "def Sort_Tuple(tup):  \n",
    "      \n",
    "    lst = len(tup)  \n",
    "    for i in range(0, lst):    \n",
    "        for j in range(0, lst-i-1):  \n",
    "            if (tup[j][3] < tup[j + 1][3]):  \n",
    "                temp = tup[j]  \n",
    "                tup[j]= tup[j + 1]  \n",
    "                tup[j + 1]= temp  \n",
    "    return tup \n",
    "\n",
    "\n",
    "for j in boundRect:\n",
    "    if j in s:\n",
    "        boundRect.remove(j)\n",
    "\n",
    "boundRect=Sort_Tuple(boundRect)\n",
    "\n",
    "#identifying date fields that are indented six boxes with a bigger box\n",
    "  \n",
    "\n",
    "date_fields={}\n",
    "for i in range(len(boundRect)):\n",
    "    x1,y1,w1,h1=boundRect[i][0:]\n",
    "    if(len(date_fields)==0):\n",
    "        date_fields[(x1,y1,w1,h1)]=[]\n",
    "    else:\n",
    "        flag=False\n",
    "        for big_box in date_fields:\n",
    "            x2,y2,w2,h2=big_box[0:]\n",
    "            if y1>y2 and x1>x2 and y1+h1 < y2+h2 and x1+w1 < x2+w2:\n",
    "                date_fields[big_box].append((x1,y1,w1,h1))\n",
    "                flag=True\n",
    "                break\n",
    "        if flag==False:\n",
    "            date_fields[(x1,y1,w1,h1)]=[]\n",
    "        \n",
    "\n",
    "inner_fields=set()\n",
    "\n",
    "#marking date_fields and the individual boxes\n",
    "\n",
    "for c in date_fields:\n",
    "    if(len(date_fields[c])==3):\n",
    "        boundRect.remove(c)\n",
    "        boundRect.remove(date_fields[c][0])\n",
    "        boundRect.remove(date_fields[c][1])\n",
    "        boundRect.remove(date_fields[c][2])\n",
    "        inner_fields.add(date_fields[c][0])\n",
    "        inner_fields.add(date_fields[c][1])\n",
    "        inner_fields.add(date_fields[c][2])\n",
    "        cv2.rectangle(img2, (int(c[0]), int(c[1])), \\\n",
    "              (int(c[0]+c[2]), int(c[1]+c[3])), (247, 145, 72), 2)\n",
    "\n",
    "print(inner_fields)\n",
    "        \n",
    "for c in inner_fields:\n",
    "    cv2.rectangle(img2, (int(c[0]), int(c[1])), \\\n",
    "          (int(c[0]+c[2]), int(c[1]+c[3])), (255,65,245), 2)\n",
    "                \n",
    "        \n",
    "for c in boundRect:\n",
    "    cv2.rectangle(img2, (int(c[0]), int(c[1])), \\\n",
    "          (int(c[0]+c[2]), int(c[1]+c[3])), (0,0,255), 2)\n",
    "        \n",
    "cv2.imwrite(\"inter6.jpg\", img2)  "
   ]
  },
  {
   "cell_type": "code",
   "execution_count": null,
   "metadata": {},
   "outputs": [],
   "source": []
  }
 ],
 "metadata": {
  "kernelspec": {
   "display_name": "Python 3",
   "language": "python",
   "name": "python3"
  },
  "language_info": {
   "codemirror_mode": {
    "name": "ipython",
    "version": 3
   },
   "file_extension": ".py",
   "mimetype": "text/x-python",
   "name": "python",
   "nbconvert_exporter": "python",
   "pygments_lexer": "ipython3",
   "version": "3.7.3"
  }
 },
 "nbformat": 4,
 "nbformat_minor": 4
}
