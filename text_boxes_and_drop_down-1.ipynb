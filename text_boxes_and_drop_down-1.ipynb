{
 "cells": [
  {
   "cell_type": "code",
   "execution_count": 164,
   "metadata": {},
   "outputs": [],
   "source": [
    "import cv2\n",
    "import numpy as np"
   ]
  },
  {
   "cell_type": "code",
   "execution_count": 276,
   "metadata": {},
   "outputs": [
    {
     "data": {
      "text/plain": [
       "True"
      ]
     },
     "execution_count": 276,
     "metadata": {},
     "output_type": "execute_result"
    }
   ],
   "source": [
    "img = cv2.imread(\"mod_img.jpg\")\n",
    "img3 = np.copy(img)\n",
    "img2 = img\n",
    "grey = cv2.cvtColor(img, cv2.COLOR_BGR2GRAY)\n",
    "grey = cv2.GaussianBlur(grey,(17,17), 0)\n",
    "th = cv2.adaptiveThreshold(grey,255,cv2.ADAPTIVE_THRESH_GAUSSIAN_C,\\\n",
    "            cv2.THRESH_BINARY,23,2)\n",
    "kernel = np.ones((1,5),np.uint8)\n",
    "\n",
    "th = 255 - th\n",
    "\n",
    "nlabels, labels, stats, centroids = cv2.connectedComponentsWithStats(th, None, None, None, 4, cv2.CV_32S)\n",
    "areas = stats[1:,cv2.CC_STAT_AREA]\n",
    "result = np.zeros((labels.shape), np.uint8)\n",
    "for i in range(0, nlabels - 1):\n",
    "    if areas[i] >= 210:   #keep\n",
    "        result[labels == i + 1] = 255\n",
    "\n",
    "#cv2.imshow(\"Binary\", binary_map)\n",
    "result = 255-result\n",
    "\n",
    "\n",
    "\n",
    "cv2.imwrite(\"inter1.jpg\", result)"
   ]
  },
  {
   "cell_type": "code",
   "execution_count": 277,
   "metadata": {},
   "outputs": [
    {
     "name": "stdout",
     "output_type": "stream",
     "text": [
      "[(39, 322, 282, 54), (43, 207, 257, 53), (61, 445, 277, 64), (393, 580, 115, 60), (398, 436, 79, 52), (410, 200, 237, 47), (418, 312, 244, 53), (518, 575, 122, 56), (534, 435, 115, 52)]\n"
     ]
    }
   ],
   "source": [
    "contours, hierarchy = cv2.findContours(result, cv2.RETR_TREE, cv2.CHAIN_APPROX_SIMPLE)\n",
    "contours_poly = [None]*len(contours)\n",
    "boundRect = [None]*len(contours)\n",
    "centroid = set()\n",
    "\n",
    "\n",
    "\n",
    "#end\n",
    "for i, c in enumerate(contours):\n",
    "        contours_poly[i] = cv2.approxPolyDP(c, 3, True)\n",
    "        boundRect[i] = cv2.boundingRect(contours_poly[i])\n",
    "\n",
    "\n",
    "#remove smaller boxes\n",
    "i = 0\n",
    "others = list()\n",
    "while i<len(boundRect):\n",
    "    if boundRect[i][2] > 25 and boundRect[i][3] > 25:\n",
    "        i += 1\n",
    "    else:\n",
    "        temp = boundRect[i]\n",
    "        boundRect.remove(boundRect[i])\n",
    "        if temp[2] >5 and temp[3] >5 :         \n",
    "            others.append(temp)\n",
    "        \n",
    "boundRect.sort(key = lambda x:x[0])\n",
    "\n",
    "\n",
    "i = 0\n",
    "\n",
    "while i < len(boundRect):\n",
    "    centroid = (boundRect[i][0] + boundRect[i][2]/2, boundRect[i][1] + boundRect[i][3]/2)\n",
    "    j = i+1 \n",
    "    while j < len(boundRect):\n",
    "        if abs(boundRect[j][0]+boundRect[j][2]/2 -centroid[0])<5 and abs(boundRect[j][1]+boundRect[j][3]/2 -centroid[1])<5: \n",
    "            boundRect.remove(boundRect[j])\n",
    "            break\n",
    "        else:\n",
    "                j+=1\n",
    "    i += 1\n",
    "\n",
    "for i in boundRect:\n",
    "    if i[2]==img3.shape[1] and i[3]==img3.shape[0]:\n",
    "        boundRect.remove(i)\n",
    "        break\n",
    "print(boundRect)"
   ]
  },
  {
   "cell_type": "code",
   "execution_count": 278,
   "metadata": {},
   "outputs": [
    {
     "name": "stdout",
     "output_type": "stream",
     "text": [
      "DATE-FIELDS:  set()\n",
      "TEXT-BOXES:  {(410, 200, 237, 47), (398, 436, 79, 52), (393, 580, 115, 60), (418, 312, 244, 53), (534, 435, 115, 52), (43, 207, 257, 53)}\n",
      "INNER BOXES:  set()\n",
      "DROP-DOWN MENUS:  {(518, 575, 122, 56), (39, 322, 282, 54), (61, 445, 277, 64)}\n",
      "TRIANLGLES:  {(292, 468, 21, 19), (271, 339, 27, 17), (595, 594, 33, 21)}\n"
     ]
    },
    {
     "data": {
      "text/plain": [
       "True"
      ]
     },
     "execution_count": 278,
     "metadata": {},
     "output_type": "execute_result"
    }
   ],
   "source": [
    "dropdown = set()\n",
    "triangles = set()\n",
    "\n",
    "m = np.mean(img2) +5\n",
    "\n",
    "for small in others:\n",
    "    x, y, w, h = small[0:]\n",
    "    for i in range(len(boundRect)):\n",
    "        x1, y1, w1, h1 = boundRect[i][0:]\n",
    "        if x >= x1+w1-h1 and x+w <= x1+w1 and y >= y1 and y+h <= y1+h1:\n",
    "            cv2.rectangle(img2, (x1,y1), (x1+w1, y1+h1), (255,0,0), 2)\n",
    "            for j in range(x-5, x+w+5):\n",
    "                for i in range(y-5, y+h+5):\n",
    "                    img2[i,j] = m\n",
    "            for j in range(x1-5, x1+w1+5):\n",
    "                for i in range(y1-5, y1+h1+5):\n",
    "                    img2[i,j] = m\n",
    "            dropdown.add((x1,y1,w1,h1))\n",
    "            triangles.add((x,y,w,h))\n",
    "            break\n",
    "\n",
    "for j in boundRect:\n",
    "    if j in dropdown:\n",
    "        boundRect.remove(j)\n",
    "\n",
    "#sorting the rectangle as per their height and width        \n",
    "boundRect.sort(key = lambda x:x[2])\n",
    "\n",
    "\n",
    "#identifying date fields that are indented six boxes with a bigger box\n",
    "\n",
    "date_fields={}\n",
    "\n",
    "for i in range(len(boundRect)):\n",
    "    x1,y1,w1,h1=boundRect[i][0:]\n",
    "    date_fields[(x1,y1,w1,h1)]=[]\n",
    "        \n",
    "for i in range(len(boundRect)):\n",
    "    x1,y1,w1,h1=boundRect[i][0:]\n",
    "    for big_box in date_fields:\n",
    "            x2,y2,w2,h2=big_box[0:]\n",
    "            if y1>y2 and x1>x2 and y1+h1 < y2+h2 and x1+w1 < x2+w2:\n",
    "                date_fields[big_box].append((x1,y1,w1,h1))\n",
    "                break\n",
    "        \n",
    "\n",
    "inner_fields=set()\n",
    "Date = set()\n",
    "\n",
    "#marking date_fields and the individual boxes\n",
    "\n",
    "for c in date_fields:\n",
    "    if(len(date_fields[c]) >= 3):\n",
    "        boundRect.remove(c)\n",
    "        Date.add(c)\n",
    "        for i in range(len(date_fields[c])):\n",
    "            boundRect.remove(date_fields[c][i])\n",
    "            inner_fields.add(date_fields[c][i])\n",
    "        x1, y1, w1, h1 = c[:]\n",
    "        for j in range(x1-5, x1+w1+5):\n",
    "                for i in range(y1-5, y1+h1+5):\n",
    "                    img2[i,j] = m\n",
    "        \n",
    "\n",
    "for c in inner_fields:\n",
    "    x1, y1, w1, h1 = c[:]\n",
    "    for j in range(x1-5, x1+w1+5):\n",
    "                for i in range(y1-5, y1+h1+5):\n",
    "                    img2[i,j] = m\n",
    "                \n",
    "TextBoxes = set()  \n",
    "for c in boundRect:\n",
    "        x1, y1, w1, h1 = c[:]\n",
    "        TextBoxes.add(c)\n",
    "        for j in range(x1-5, x1+w1+5):\n",
    "            for i in range(y1-5, y1+h1+5):\n",
    "                    img2[i,j] = m\n",
    "    \n",
    "print(\"DATE-FIELDS: \",Date)\n",
    "print(\"TEXT-BOXES: \",TextBoxes)\n",
    "print(\"INNER BOXES: \",inner_fields)\n",
    "print(\"DROP-DOWN MENUS: \",dropdown)\n",
    "print(\"TRIANLGLES: \",triangles)\n",
    "cv2.imwrite(\"inter4.jpg\", img2)"
   ]
  },
  {
   "cell_type": "code",
   "execution_count": 279,
   "metadata": {},
   "outputs": [
    {
     "name": "stdout",
     "output_type": "stream",
     "text": [
      "(660, 725, 3)\n",
      "(660, 725)\n",
      "{(17, 90, 417, 13)}\n"
     ]
    },
    {
     "data": {
      "text/plain": [
       "-1"
      ]
     },
     "execution_count": 279,
     "metadata": {},
     "output_type": "execute_result"
    }
   ],
   "source": [
    "img3 = img2\n",
    "Sectionlines = set()\n",
    "print(img3.shape)\n",
    "img3 = cv2.cvtColor(img3, cv2.COLOR_BGR2GRAY) #put input image here\n",
    "img3 = 255-img3\n",
    "print(img3.shape)\n",
    "_, img3 = cv2.threshold(img3,120,255,cv2.THRESH_BINARY)\n",
    "kernel = cv2.getStructuringElement(cv2.MORPH_RECT, (5,1))\n",
    "img3 = cv2.dilate(img3, kernel, iterations = 5)\n",
    "contours, h = cv2.findContours(img3, cv2.RETR_TREE, cv2.CHAIN_APPROX_SIMPLE)\n",
    "for c in contours:\n",
    "    x,y,w,h = cv2.boundingRect(c)\n",
    "    if w>10 and h>2:\n",
    "        cv2.rectangle(img2,(x,y),(x+w, y+h), (125,125,0), 2)\n",
    "        Sectionlines.add((x,y,w,h))\n",
    "print(\"SECTION-LINES: \",Sectionlines)\n",
    "cv2.imshow(\"Image\", img2)\n",
    "cv2.waitKey(0)"
   ]
  },
  {
   "cell_type": "code",
   "execution_count": null,
   "metadata": {},
   "outputs": [],
   "source": []
  }
 ],
 "metadata": {
  "kernelspec": {
   "display_name": "Python 3",
   "language": "python",
   "name": "python3"
  },
  "language_info": {
   "codemirror_mode": {
    "name": "ipython",
    "version": 3
   },
   "file_extension": ".py",
   "mimetype": "text/x-python",
   "name": "python",
   "nbconvert_exporter": "python",
   "pygments_lexer": "ipython3",
   "version": "3.7.3"
  }
 },
 "nbformat": 4,
 "nbformat_minor": 2
}
