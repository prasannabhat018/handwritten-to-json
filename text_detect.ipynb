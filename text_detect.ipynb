{
 "cells": [
  {
   "cell_type": "code",
   "execution_count": 23,
   "metadata": {},
   "outputs": [
    {
     "name": "stdout",
     "output_type": "stream",
     "text": [
      "725 662\n"
     ]
    },
    {
     "data": {
      "text/plain": [
       "-1"
      ]
     },
     "execution_count": 23,
     "metadata": {},
     "output_type": "execute_result"
    }
   ],
   "source": [
    "import numpy as np\n",
    "import cv2\n",
    "import pytesseract\n",
    "from PIL import Image\n",
    "\n",
    "#image = Image.open(\"formexample.png\")\n",
    "#width,height = image.size\n",
    "#image = image.resize((width*1//2 ,height*1//2 ), Image.ANTIALIAS) \n",
    "#rgb_im = image.convert('RGB') \n",
    "#quality_val = 90\n",
    "#rgb_im.save('modified.jpg', quality=quality_val)\n",
    "\n",
    "pytesseract.pytesseract.tesseract_cmd = 'C:\\\\Program Files\\\\Tesseract-OCR\\\\tesseract.exe'\n",
    "large = cv2.imread('hwrform1.png')\n",
    "print(large.shape[0],large.shape[1])\n",
    "h = large.shape[0]\n",
    "w = large.shape[1]\n",
    "rgb = cv2.resize(large, (725, 660))\n",
    "#rgb = cv2.pyrDown(large)\n",
    "small = cv2.cvtColor(rgb, cv2.COLOR_BGR2GRAY)\n",
    "img = large\n",
    "img2 = small\n",
    "# kernel = cv2.getStructuringElement(cv2.MORPH_ELLIPSE, (3, 3))\n",
    "kernel = np.ones((1, 9), np.uint8)\n",
    "grad = cv2.morphologyEx(small, cv2.MORPH_GRADIENT, kernel)\n",
    "_, bw = cv2.threshold(grad, 0, 255.0, cv2.THRESH_BINARY | cv2.THRESH_OTSU)\n",
    "\n",
    "kernel = cv2.getStructuringElement(cv2.MORPH_RECT, (11, 1))\n",
    "connected = cv2.morphologyEx(bw, cv2.MORPH_CLOSE, kernel)\n",
    "connected = cv2.morphologyEx(bw, cv2.MORPH_CLOSE, kernel)\n",
    "kernel2 = cv2.getStructuringElement(cv2.MORPH_RECT, (12,1))\n",
    "#connected = cv2.dilate(connected,kernel2, iterations = 1)\n",
    "\n",
    "cv2.imwrite(\"/Users/nishith/cv/Lib/site-packages/i1.jpg\",connected)\n",
    "# using RETR_EXTERNAL instead of RETR_CCOMP\n",
    "contours, hierarchy = cv2.findContours(connected.copy(), cv2.RETR_EXTERNAL, cv2.CHAIN_APPROX_SIMPLE)\n",
    "#For opencv 3+ comment the previous line and uncomment the following line\n",
    "#_, contours, hierarchy = cv2.findContours(connected.copy(), cv2.RETR_EXTERNAL, cv2.CHAIN_APPROX_NONE)\n",
    "\n",
    "mask = np.zeros(bw.shape, dtype=np.uint8)\n",
    "count=0\n",
    "\n",
    "text = \"\"\n",
    "for idx in range(len(contours)):\n",
    "    x, y, w, h = cv2.boundingRect(contours[idx])\n",
    "    mask[y:y+h, x:x+w] = 0\n",
    "    cv2.drawContours(mask, contours, idx, (255, 255, 255), -1)\n",
    "    r = float(cv2.countNonZero(mask[y:y+h, x:x+w])) / (w * h)\n",
    "    \n",
    "    if r > 0.4 and w > 8 and h > 8 and w>2*h:\n",
    "        #cv2.rectangle(rgb, (x-1, y-1), (x+w-1, y+h-1), (255, 255, 255), -1)\n",
    "        m = np.mean(rgb[:, :]) + 5\n",
    "        cv2.imwrite(\"words/\"+str(idx)+\".jpg\", rgb[y-10:y+h+5, x-5:x+w+5])\n",
    "        for j in range(x-5, x+w+5):\n",
    "            for i in range(y-10, y+h+5):\n",
    "                rgb[i,j] = m\n",
    "\n",
    "cv2.imwrite(\"/Users/nishith/cv/Lib/site-packages/mod_img.jpg\",rgb)\n",
    "cv2.imshow('rects', rgb)\n",
    "cv2.waitKey(0)"
   ]
  },
  {
   "cell_type": "code",
   "execution_count": 59,
   "metadata": {},
   "outputs": [
    {
     "data": {
      "text/plain": [
       "True"
      ]
     },
     "execution_count": 59,
     "metadata": {},
     "output_type": "execute_result"
    }
   ],
   "source": []
  },
  {
   "cell_type": "code",
   "execution_count": 66,
   "metadata": {},
   "outputs": [
    {
     "data": {
      "text/plain": [
       "True"
      ]
     },
     "execution_count": 66,
     "metadata": {},
     "output_type": "execute_result"
    }
   ],
   "source": [
    "\n",
    "edges = cv2.Canny(img2,50,150,apertureSize = 5)\n",
    "\n",
    "rho = 1  # distance resolution in pixels of the Hough grid\n",
    "theta = np.pi / 180  # angular resolution in radians of the Hough grid\n",
    "threshold = 120  # minimum number of votes (intersections in Hough grid cell)\n",
    "min_line_length = 50  # minimum number of pixels making up a line\n",
    "max_line_gap = 5  # maximum gap in pixels between connectable line segments\n",
    "line_image = np.copy(img2)   # creating a blank to draw lines on\n",
    "\n",
    "# Run Hough on edge detected image\n",
    "# Output \"lines\" is an array containing endpoints of detected line segments\n",
    "lines = cv2.HoughLinesP(edges, rho, theta, threshold, np.array([]),\n",
    "                    min_line_length, max_line_gap)\n",
    "\n",
    "for line in lines:\n",
    "    for x1,y1,x2,y2 in line:\n",
    "        cv2.line(line_image,(x1,y1),(x2,y2),(255,0,0),5)\n",
    "\n",
    "cv2.imwrite('houghlines3.jpg',line_image)"
   ]
  },
  {
   "cell_type": "code",
   "execution_count": 24,
   "metadata": {},
   "outputs": [
    {
     "name": "stdout",
     "output_type": "stream",
     "text": [
      "4.2.0\n"
     ]
    }
   ],
   "source": [
    "print(cv2.__version__)"
   ]
  },
  {
   "cell_type": "code",
   "execution_count": null,
   "metadata": {},
   "outputs": [],
   "source": []
  }
 ],
 "metadata": {
  "kernelspec": {
   "display_name": "Python 3",
   "language": "python",
   "name": "python3"
  },
  "language_info": {
   "codemirror_mode": {
    "name": "ipython",
    "version": 3
   },
   "file_extension": ".py",
   "mimetype": "text/x-python",
   "name": "python",
   "nbconvert_exporter": "python",
   "pygments_lexer": "ipython3",
   "version": "3.7.3"
  }
 },
 "nbformat": 4,
 "nbformat_minor": 2
}
