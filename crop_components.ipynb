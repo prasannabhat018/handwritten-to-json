{
 "cells": [
  {
   "cell_type": "code",
   "execution_count": 1,
   "metadata": {},
   "outputs": [],
   "source": [
    "import cv2\n",
    "import numpy as np"
   ]
  },
  {
   "cell_type": "code",
   "execution_count": 2,
   "metadata": {},
   "outputs": [
    {
     "data": {
      "text/plain": [
       "True"
      ]
     },
     "execution_count": 2,
     "metadata": {},
     "output_type": "execute_result"
    }
   ],
   "source": [
    "img = cv2.imread(\"mod_img11.jpg\")\n",
    "img3 = np.copy(img)\n",
    "img2 = img\n",
    "grey = cv2.cvtColor(img, cv2.COLOR_BGR2GRAY)\n",
    "grey = cv2.GaussianBlur(grey,(17,17), 0)\n",
    "th = cv2.adaptiveThreshold(grey,255,cv2.ADAPTIVE_THRESH_GAUSSIAN_C,\\\n",
    "            cv2.THRESH_BINARY,23,2)\n",
    "kernel = np.ones((1,5),np.uint8)\n",
    "\n",
    "th = 255 - th\n",
    "\n",
    "nlabels, labels, stats, centroids = cv2.connectedComponentsWithStats(th, None, None, None, 4, cv2.CV_32S)\n",
    "areas = stats[1:,cv2.CC_STAT_AREA]\n",
    "result = np.zeros((labels.shape), np.uint8)\n",
    "for i in range(0, nlabels - 1):\n",
    "    if areas[i] >= 210:   #keep\n",
    "        result[labels == i + 1] = 255\n",
    "\n",
    "#cv2.imshow(\"Binary\", binary_map)\n",
    "result = 255-result\n",
    "\n",
    "\n",
    "\n",
    "cv2.imwrite(\"inter1.jpg\", result)"
   ]
  },
  {
   "cell_type": "code",
   "execution_count": 3,
   "metadata": {},
   "outputs": [
    {
     "name": "stdout",
     "output_type": "stream",
     "text": [
      "[(63, 100, 512, 31), (98, 243, 500, 80), (102, 428, 497, 79), (104, 60, 31, 39), (110, 443, 128, 54), (119, 625, 647, 273), (129, 190, 30, 28), (131, 647, 298, 90), (135, 725, 301, 98), (139, 807, 300, 82), (154, 375, 31, 30), (175, 580, 57, 37), (242, 440, 126, 55), (366, 439, 228, 53), (437, 715, 316, 84), (468, 46, 33, 44), (729, 213, 503, 86), (736, 396, 44, 46), (742, 510, 47, 43), (819, 503, 31, 38), (828, 392, 45, 36), (861, 504, 43, 33), (871, 161, 27, 41), (876, 602, 277, 86), (880, 721, 330, 102), (979, 380, 59, 43), (982, 626, 28, 32), (986, 757, 29, 28), (1066, 377, 38, 34), (1154, 238, 46, 29)]\n"
     ]
    }
   ],
   "source": [
    "contours, hierarchy = cv2.findContours(result, cv2.RETR_TREE, cv2.CHAIN_APPROX_SIMPLE)\n",
    "contours_poly = [None]*len(contours)\n",
    "boundRect = [None]*len(contours)\n",
    "centroid = set()\n",
    "\n",
    "for i, c in enumerate(contours):\n",
    "        contours_poly[i] = cv2.approxPolyDP(c, 3, True)\n",
    "        boundRect[i] = cv2.boundingRect(contours_poly[i])\n",
    "i = 0\n",
    "others = list()\n",
    "while i<len(boundRect):\n",
    "    if boundRect[i][2] > 25 and boundRect[i][3] > 25:\n",
    "        i += 1\n",
    "    else:\n",
    "        temp = boundRect[i]\n",
    "        boundRect.remove(boundRect[i])\n",
    "        if temp[2] >5 and temp[3] >5 :         \n",
    "            others.append(temp)\n",
    "        \n",
    "boundRect.sort(key = lambda x:x[0])\n",
    "i = 0\n",
    "\n",
    "while i < len(boundRect):\n",
    "    centroid = (boundRect[i][0] + boundRect[i][2]/2, boundRect[i][1] + boundRect[i][3]/2)\n",
    "    j = i+1 \n",
    "    while j < len(boundRect):\n",
    "        if abs(boundRect[j][0]+boundRect[j][2]/2 -centroid[0])<5 and abs(boundRect[j][1]+boundRect[j][3]/2 -centroid[1])<5: \n",
    "            boundRect.remove(boundRect[j])\n",
    "            break\n",
    "        else:\n",
    "                j+=1\n",
    "    i += 1\n",
    "\n",
    "for i in boundRect:\n",
    "    if i[2]==img3.shape[1] and i[3]==img3.shape[0]:\n",
    "        boundRect.remove(i)\n",
    "        break\n",
    "print(boundRect)"
   ]
  },
  {
   "cell_type": "code",
   "execution_count": 4,
   "metadata": {},
   "outputs": [
    {
     "data": {
      "text/plain": [
       "True"
      ]
     },
     "execution_count": 4,
     "metadata": {},
     "output_type": "execute_result"
    }
   ],
   "source": [
    "boundRect.sort(key = lambda x:x[2])\n",
    "\n",
    "fields={}\n",
    "\n",
    "for i in range(len(boundRect)):\n",
    "    x1,y1,w1,h1=boundRect[i][0:]\n",
    "    fields[(x1,y1,w1,h1)]=[]\n",
    "        \n",
    "for i in range(len(boundRect)):\n",
    "    x1,y1,w1,h1=boundRect[i][0:]\n",
    "    for big_box in fields:\n",
    "            x2,y2,w2,h2=big_box[0:]\n",
    "            if y1>y2 and x1>x2 and y1+h1 < y2+h2 and x1+w1 < x2+w2:\n",
    "                fields[big_box].append((x1,y1,w1,h1))\n",
    "                break\n",
    "                \n",
    "                \n",
    "for c in fields:\n",
    "    if(len(fields[c]) >=1):\n",
    "        for i in range(len(fields[c])):\n",
    "            boundRect.remove(fields[c][i])\n",
    "        \n",
    "\n",
    "for c in boundRect:\n",
    "    cv2.rectangle(img2, (int(c[0]), int(c[1])), \\\n",
    "          (int(c[0]+c[2]), int(c[1]+c[3])), (0,0,255), 2)\n",
    "cv2.imwrite(\"inter6.jpg\", img2)  "
   ]
  },
  {
   "cell_type": "code",
   "execution_count": null,
   "metadata": {},
   "outputs": [],
   "source": []
  }
 ],
 "metadata": {
  "kernelspec": {
   "display_name": "Python 3",
   "language": "python",
   "name": "python3"
  },
  "language_info": {
   "codemirror_mode": {
    "name": "ipython",
    "version": 3
   },
   "file_extension": ".py",
   "mimetype": "text/x-python",
   "name": "python",
   "nbconvert_exporter": "python",
   "pygments_lexer": "ipython3",
   "version": "3.7.3"
  }
 },
 "nbformat": 4,
 "nbformat_minor": 2
}
