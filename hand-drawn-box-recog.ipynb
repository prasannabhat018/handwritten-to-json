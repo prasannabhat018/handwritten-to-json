{
 "cells": [
  {
   "cell_type": "code",
   "execution_count": 1,
   "metadata": {},
   "outputs": [],
   "source": [
    "import cv2\n",
    "import numpy as np"
   ]
  },
  {
   "cell_type": "code",
   "execution_count": 25,
   "metadata": {},
   "outputs": [
    {
     "data": {
      "text/plain": [
       "True"
      ]
     },
     "execution_count": 25,
     "metadata": {},
     "output_type": "execute_result"
    }
   ],
   "source": [
    "img = cv2.imread(\"mod_img.jpg\")\n",
    "img2 = img\n",
    "grey = cv2.cvtColor(img, cv2.COLOR_BGR2GRAY)\n",
    "_,th = cv2.threshold(grey, 150, 255, cv2.THRESH_B\n",
    "                     \n",
    "                     INARY)\n",
    "kernel = np.ones((1,5),np.uint8)\n",
    "th = cv2.erode(th, kernel, iterations = 2)\n",
    "th = cv2.dilate(th, kernel, iterations = 2)\n",
    "th = 255 - th\n",
    "\n",
    "nlabels, labels, stats, centroids = cv2.connectedComponentsWithStats(th, None, None, None, 4, cv2.CV_32S)\n",
    "areas = stats[1:,cv2.CC_STAT_AREA]\n",
    "result = np.zeros((labels.shape), np.uint8)\n",
    "for i in range(0, nlabels - 1):\n",
    "    if areas[i] >= 210:   #keep\n",
    "        result[labels == i + 1] = 255\n",
    "\n",
    "#cv2.imshow(\"Binary\", binary_map)\n",
    "result = 255-result\n",
    "\n",
    "kernel = np.ones((3, 3), np.uint8)   \n",
    "result = cv2.erode(result, kernel, iterations = 1)\n",
    "result = cv2.dilate(result, kernel, iterations = 1)\n",
    "\n",
    "cv2.imwrite(\"inter1.jpg\", result)"
   ]
  },
  {
   "cell_type": "code",
   "execution_count": 26,
   "metadata": {},
   "outputs": [
    {
     "data": {
      "text/plain": [
       "True"
      ]
     },
     "execution_count": 26,
     "metadata": {},
     "output_type": "execute_result"
    }
   ],
   "source": [
    "contours, hierarchy = cv2.findContours(th, cv2.RETR_TREE, cv2.CHAIN_APPROX_SIMPLE)\n",
    "contours_poly = [None]*len(contours)\n",
    "boundRect = [None]*len(contours)\n",
    "for i, c in enumerate(contours):\n",
    "        contours_poly[i] = cv2.approxPolyDP(c, 3, True)\n",
    "        boundRect[i] = cv2.boundingRect(contours_poly[i])\n",
    "for i in range(len(contours)):\n",
    "    if boundRect[i][2] > 20 and boundRect[i][3] > 20:\n",
    "        cv2.rectangle(img2, (int(boundRect[i][0]), int(boundRect[i][1])), \\\n",
    "          (int(boundRect[i][0]+boundRect[i][2]), int(boundRect[i][1]+boundRect[i][3])), (0,0,255), 2)\n",
    "cv2.imwrite(\"inter2.jpg\", img2)"
   ]
  },
  {
   "cell_type": "code",
   "execution_count": null,
   "metadata": {},
   "outputs": [],
   "source": []
  }
 ],
 "metadata": {
  "kernelspec": {
   "display_name": "Python 3",
   "language": "python",
   "name": "python3"
  },
  "language_info": {
   "codemirror_mode": {
    "name": "ipython",
    "version": 3
   },
   "file_extension": ".py",
   "mimetype": "text/x-python",
   "name": "python",
   "nbconvert_exporter": "python",
   "pygments_lexer": "ipython3",
   "version": "3.7.3"
  }
 },
 "nbformat": 4,
 "nbformat_minor": 2
}
