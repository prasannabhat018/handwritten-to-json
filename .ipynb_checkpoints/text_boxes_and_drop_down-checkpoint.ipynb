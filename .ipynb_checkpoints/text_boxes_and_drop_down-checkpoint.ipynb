{
 "cells": [
  {
   "cell_type": "code",
   "execution_count": 1,
   "metadata": {},
   "outputs": [],
   "source": [
    "import cv2\n",
    "import numpy as np"
   ]
  },
  {
   "cell_type": "code",
   "execution_count": 2,
   "metadata": {},
   "outputs": [
    {
     "data": {
      "text/plain": [
       "True"
      ]
     },
     "execution_count": 2,
     "metadata": {},
     "output_type": "execute_result"
    }
   ],
   "source": [
    "img = cv2.imread(\"mod_img1.jpg\")\n",
    "img3 = np.copy(img)\n",
    "img2 = img\n",
    "grey = cv2.cvtColor(img, cv2.COLOR_BGR2GRAY)\n",
    "_,th = cv2.threshold(grey, 150, 255, cv2.THRESH_BINARY)\n",
    "kernel = np.ones((1,5),np.uint8)\n",
    "th = cv2.erode(th, kernel, iterations = 2)\n",
    "th = cv2.dilate(th, kernel, iterations = 2)\n",
    "th = 255 - th\n",
    "\n",
    "nlabels, labels, stats, centroids = cv2.connectedComponentsWithStats(th, None, None, None, 4, cv2.CV_32S)\n",
    "areas = stats[1:,cv2.CC_STAT_AREA]\n",
    "result = np.zeros((labels.shape), np.uint8)\n",
    "for i in range(0, nlabels - 1):\n",
    "    if areas[i] >= 210:   #keep\n",
    "        result[labels == i + 1] = 255\n",
    "\n",
    "#cv2.imshow(\"Binary\", binary_map)\n",
    "result = 255-result\n",
    "\n",
    "kernel = np.ones((3, 3), np.uint8)   \n",
    "result = cv2.erode(result, kernel, iterations = 1)\n",
    "result = cv2.dilate(result, kernel, iterations = 1)\n",
    "\n",
    "cv2.imwrite(\"inter1.jpg\", result)"
   ]
  },
  {
   "cell_type": "code",
   "execution_count": 3,
   "metadata": {},
   "outputs": [
    {
     "name": "stdout",
     "output_type": "stream",
     "text": [
      "circle\n",
      "circle\n",
      "circle\n",
      "circle\n",
      "circle\n",
      "circle\n",
      "circle\n",
      "circle\n",
      "circle\n",
      "circle\n",
      "circle\n",
      "circle\n",
      "circle\n",
      "circle\n",
      "circle\n",
      "circle\n",
      "circle\n",
      "circle\n",
      "circle\n",
      "circle\n",
      "circle\n",
      "circle\n",
      "circle\n",
      "circle\n",
      "circle\n",
      "circle\n",
      "circle\n",
      "circle\n",
      "circle\n",
      "circle\n",
      "circle\n",
      "circle\n",
      "circle\n",
      "circle\n",
      "circle\n",
      "circle\n",
      "circle\n",
      "circle\n",
      "circle\n",
      "circle\n",
      "circle\n",
      "circle\n",
      "[(310, 1097, 110, 100), (330, 877, 91, 100), (349, 1128, 32, 38), (373, 201, 755, 139), (379, 564, 726, 174), (416, 474, 54, 63), (487, 487, 33, 38), (500, 1104, 46, 59), (505, 896, 48, 52), (537, 479, 38, 40), (554, 114, 39, 53), (572, 1113, 33, 43), (576, 899, 26, 46), (603, 472, 36, 38), (603, 135, 34, 35), (616, 1110, 37, 42), (623, 890, 41, 49), (646, 133, 34, 66), (655, 470, 29, 48), (676, 1106, 33, 46), (683, 879, 47, 49), (698, 137, 38, 29), (746, 1107, 47, 42), (783, 481, 51, 39), (858, 473, 28, 45), (1011, 251, 51, 48), (1443, 162, 293, 127), (1477, 77, 48, 54), (1535, 78, 28, 44), (1597, 66, 33, 60), (1705, 967, 348, 144), (1822, 1020, 32, 51), (1873, 1015, 48, 53), (2042, 119, 463, 131), (2097, 39, 41, 51), (2160, 40, 29, 46), (2210, 943, 527, 154), (2213, 33, 38, 46), (2265, 39, 47, 43), (2274, 1009, 28, 40), (2312, 1011, 29, 37), (2357, 1012, 42, 33), (2427, 1005, 34, 38), (2486, 997, 33, 40), (2544, 992, 42, 46)]\n"
     ]
    }
   ],
   "source": [
    "contours, hierarchy = cv2.findContours(th, cv2.RETR_TREE, cv2.CHAIN_APPROX_SIMPLE)\n",
    "contours_poly = [None]*len(contours)\n",
    "boundRect = [None]*len(contours)\n",
    "centroid = set()\n",
    "\n",
    "\n",
    "for cnt in contours:\n",
    "    approx1 = cv2.approxPolyDP(cnt,0.01*cv2.arcLength(cnt,True),True)\n",
    "    if len(approx1) > 10:\n",
    "        cv2.drawContours(img2,[cnt],0,(0,255,255),-1)\n",
    "\n",
    "\n",
    "for i, c in enumerate(contours):\n",
    "        contours_poly[i] = cv2.approxPolyDP(c, 3, True)\n",
    "        boundRect[i] = cv2.boundingRect(contours_poly[i])\n",
    "\n",
    "\n",
    "i = 0\n",
    "others = list()\n",
    "while i<len(boundRect):\n",
    "    if boundRect[i][2] > 20 and boundRect[i][3] > 20:\n",
    "        i += 1\n",
    "    else:\n",
    "        temp = boundRect[i]\n",
    "        boundRect.remove(boundRect[i])\n",
    "        if temp[2] >10 and temp[3] >5 and abs(temp[2] -temp[3])<8:\n",
    "            others.append(temp)\n",
    "        \n",
    "boundRect.sort(key = lambda x:x[0])\n",
    "\n",
    "\n",
    "i = 0\n",
    "\n",
    "while i < len(boundRect):\n",
    "    centroid = (boundRect[i][0] + boundRect[i][2]/2, boundRect[i][1] + boundRect[i][3]/2)\n",
    "    j = i+1 \n",
    "    while j < len(boundRect):\n",
    "        if abs(boundRect[j][0]+boundRect[j][2]/2 -centroid[0])<5 and abs(boundRect[j][1]+boundRect[j][3]/2 -centroid[1])<5: \n",
    "            boundRect.remove(boundRect[j])\n",
    "            break\n",
    "        else:\n",
    "                j+=1\n",
    "    i += 1\n",
    "print(boundRect)"
   ]
  },
  {
   "cell_type": "code",
   "execution_count": 4,
   "metadata": {},
   "outputs": [
    {
     "data": {
      "text/plain": [
       "True"
      ]
     },
     "execution_count": 4,
     "metadata": {},
     "output_type": "execute_result"
    }
   ],
   "source": [
    "s = set()\n",
    "for small in others:\n",
    "    x, y, w, h = small[0:]\n",
    "    for i in range(len(boundRect)):\n",
    "        x1, y1, w1, h1 = boundRect[i][0:]\n",
    "        if x >= x1+w1-h1 and x+w <= x1+w1 and y >= y1 and y+h <= y1+h1:\n",
    "            cv2.rectangle(img2, (x1,y1), (x1+w1, y1+h1), (255,0,0), 2)\n",
    "            cv2.rectangle(img2, (x,y), (x+w, y+h), (70,205,0), 2)\n",
    "            s.add((x1,y1,w1,h1))\n",
    "            break\n",
    "            \n",
    "for j in boundRect:\n",
    "    if j in s:\n",
    "        boundRect.remove(j)\n",
    "\n",
    "for c in boundRect:\n",
    "    cv2.rectangle(img2, (int(c[0]), int(c[1])), \\\n",
    "          (int(c[0]+c[2]), int(c[1]+c[3])), (0,0,255), 2)\n",
    "        \n",
    "cv2.imwrite(\"inter2.jpg\", img2)  "
   ]
  },
  {
   "cell_type": "code",
   "execution_count": null,
   "metadata": {},
   "outputs": [],
   "source": []
  }
 ],
 "metadata": {
  "kernelspec": {
   "display_name": "Python 3",
   "language": "python",
   "name": "python3"
  },
  "language_info": {
   "codemirror_mode": {
    "name": "ipython",
    "version": 3
   },
   "file_extension": ".py",
   "mimetype": "text/x-python",
   "name": "python",
   "nbconvert_exporter": "python",
   "pygments_lexer": "ipython3",
   "version": "3.7.3"
  }
 },
 "nbformat": 4,
 "nbformat_minor": 2
}
